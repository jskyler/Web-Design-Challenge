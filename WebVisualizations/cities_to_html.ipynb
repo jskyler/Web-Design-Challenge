{
 "metadata": {
  "language_info": {
   "codemirror_mode": {
    "name": "ipython",
    "version": 3
   },
   "file_extension": ".py",
   "mimetype": "text/x-python",
   "name": "python",
   "nbconvert_exporter": "python",
   "pygments_lexer": "ipython3",
   "version": "3.8.3-final"
  },
  "orig_nbformat": 2,
  "kernelspec": {
   "name": "python3",
   "display_name": "Python 3",
   "language": "python"
  }
 },
 "nbformat": 4,
 "nbformat_minor": 2,
 "cells": [
  {
   "cell_type": "code",
   "execution_count": 1,
   "metadata": {},
   "outputs": [],
   "source": [
    "import pandas as pd"
   ]
  },
  {
   "cell_type": "code",
   "execution_count": 2,
   "metadata": {},
   "outputs": [
    {
     "output_type": "execute_result",
     "data": {
      "text/plain": [
       "                    City    Lat     Lng  Max Temp  Humidity  Cloudiness  \\\n",
       "0                   Hilo  19.73 -155.09     69.80        77           1   \n",
       "1                Ushuaia -54.80  -68.30     39.20        69          75   \n",
       "2              Grindavik  63.84  -22.43     33.80        80          40   \n",
       "3              Tuatapere -46.13  167.68     56.79        84         100   \n",
       "4    Asunción Nochixtlán  17.47  -97.23     69.17        38           0   \n",
       "..                   ...    ...     ...       ...       ...         ...   \n",
       "550            Bathsheba  13.22  -59.52     87.80        70          20   \n",
       "551              Tautira -17.73 -149.15     80.60        78          40   \n",
       "552             Maragogi  -9.01  -35.22     82.09        71          16   \n",
       "553      Bad Freienwalde  52.79   14.03     52.00        83          99   \n",
       "554            Kyshtovka  56.55   76.63     21.40        97          94   \n",
       "\n",
       "     Wind Speed Country        Date  \n",
       "0          8.05      US  1605376789  \n",
       "1         20.80      AR  1605376789  \n",
       "2         12.75      IS  1605376789  \n",
       "3          5.73      NZ  1605376789  \n",
       "4          5.75      MX  1605376790  \n",
       "..          ...     ...         ...  \n",
       "550       11.41      BB  1605376921  \n",
       "551        6.93      PF  1605376922  \n",
       "552       10.60      BR  1605376922  \n",
       "553        6.76      DE  1605376922  \n",
       "554        5.39      RU  1605376922  \n",
       "\n",
       "[555 rows x 9 columns]"
      ],
      "text/html": "<div>\n<style scoped>\n    .dataframe tbody tr th:only-of-type {\n        vertical-align: middle;\n    }\n\n    .dataframe tbody tr th {\n        vertical-align: top;\n    }\n\n    .dataframe thead th {\n        text-align: right;\n    }\n</style>\n<table border=\"1\" class=\"dataframe\">\n  <thead>\n    <tr style=\"text-align: right;\">\n      <th></th>\n      <th>City</th>\n      <th>Lat</th>\n      <th>Lng</th>\n      <th>Max Temp</th>\n      <th>Humidity</th>\n      <th>Cloudiness</th>\n      <th>Wind Speed</th>\n      <th>Country</th>\n      <th>Date</th>\n    </tr>\n  </thead>\n  <tbody>\n    <tr>\n      <th>0</th>\n      <td>Hilo</td>\n      <td>19.73</td>\n      <td>-155.09</td>\n      <td>69.80</td>\n      <td>77</td>\n      <td>1</td>\n      <td>8.05</td>\n      <td>US</td>\n      <td>1605376789</td>\n    </tr>\n    <tr>\n      <th>1</th>\n      <td>Ushuaia</td>\n      <td>-54.80</td>\n      <td>-68.30</td>\n      <td>39.20</td>\n      <td>69</td>\n      <td>75</td>\n      <td>20.80</td>\n      <td>AR</td>\n      <td>1605376789</td>\n    </tr>\n    <tr>\n      <th>2</th>\n      <td>Grindavik</td>\n      <td>63.84</td>\n      <td>-22.43</td>\n      <td>33.80</td>\n      <td>80</td>\n      <td>40</td>\n      <td>12.75</td>\n      <td>IS</td>\n      <td>1605376789</td>\n    </tr>\n    <tr>\n      <th>3</th>\n      <td>Tuatapere</td>\n      <td>-46.13</td>\n      <td>167.68</td>\n      <td>56.79</td>\n      <td>84</td>\n      <td>100</td>\n      <td>5.73</td>\n      <td>NZ</td>\n      <td>1605376789</td>\n    </tr>\n    <tr>\n      <th>4</th>\n      <td>Asunción Nochixtlán</td>\n      <td>17.47</td>\n      <td>-97.23</td>\n      <td>69.17</td>\n      <td>38</td>\n      <td>0</td>\n      <td>5.75</td>\n      <td>MX</td>\n      <td>1605376790</td>\n    </tr>\n    <tr>\n      <th>...</th>\n      <td>...</td>\n      <td>...</td>\n      <td>...</td>\n      <td>...</td>\n      <td>...</td>\n      <td>...</td>\n      <td>...</td>\n      <td>...</td>\n      <td>...</td>\n    </tr>\n    <tr>\n      <th>550</th>\n      <td>Bathsheba</td>\n      <td>13.22</td>\n      <td>-59.52</td>\n      <td>87.80</td>\n      <td>70</td>\n      <td>20</td>\n      <td>11.41</td>\n      <td>BB</td>\n      <td>1605376921</td>\n    </tr>\n    <tr>\n      <th>551</th>\n      <td>Tautira</td>\n      <td>-17.73</td>\n      <td>-149.15</td>\n      <td>80.60</td>\n      <td>78</td>\n      <td>40</td>\n      <td>6.93</td>\n      <td>PF</td>\n      <td>1605376922</td>\n    </tr>\n    <tr>\n      <th>552</th>\n      <td>Maragogi</td>\n      <td>-9.01</td>\n      <td>-35.22</td>\n      <td>82.09</td>\n      <td>71</td>\n      <td>16</td>\n      <td>10.60</td>\n      <td>BR</td>\n      <td>1605376922</td>\n    </tr>\n    <tr>\n      <th>553</th>\n      <td>Bad Freienwalde</td>\n      <td>52.79</td>\n      <td>14.03</td>\n      <td>52.00</td>\n      <td>83</td>\n      <td>99</td>\n      <td>6.76</td>\n      <td>DE</td>\n      <td>1605376922</td>\n    </tr>\n    <tr>\n      <th>554</th>\n      <td>Kyshtovka</td>\n      <td>56.55</td>\n      <td>76.63</td>\n      <td>21.40</td>\n      <td>97</td>\n      <td>94</td>\n      <td>5.39</td>\n      <td>RU</td>\n      <td>1605376922</td>\n    </tr>\n  </tbody>\n</table>\n<p>555 rows × 9 columns</p>\n</div>"
     },
     "metadata": {},
     "execution_count": 2
    }
   ],
   "source": [
    "cities = pd.read_csv(\"Resources/cities.csv\", index_col=0)\n",
    "\n",
    "cities_summary = pd.DataFrame(cities)\n",
    "cities_summary"
   ]
  },
  {
   "cell_type": "code",
   "execution_count": 3,
   "metadata": {},
   "outputs": [],
   "source": [
    "cities.to_html(\"cities.html\")"
   ]
  },
  {
   "cell_type": "code",
   "execution_count": null,
   "metadata": {},
   "outputs": [],
   "source": []
  }
 ]
}