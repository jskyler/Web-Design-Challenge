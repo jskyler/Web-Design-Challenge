{
 "metadata": {
  "language_info": {
   "codemirror_mode": {
    "name": "ipython",
    "version": 3
   },
   "file_extension": ".py",
   "mimetype": "text/x-python",
   "name": "python",
   "nbconvert_exporter": "python",
   "pygments_lexer": "ipython3",
   "version": "3.8.3-final"
  },
  "orig_nbformat": 2,
  "kernelspec": {
   "name": "python3",
   "display_name": "Python 3",
   "language": "python"
  }
 },
 "nbformat": 4,
 "nbformat_minor": 2,
 "cells": [
  {
   "cell_type": "code",
   "execution_count": 1,
   "metadata": {},
   "outputs": [],
   "source": [
    "import pandas as pd"
   ]
  },
  {
   "cell_type": "code",
   "execution_count": 7,
   "metadata": {},
   "outputs": [
    {
     "output_type": "execute_result",
     "data": {
      "text/plain": [
       "<bound method NDFrame.head of      Unnamed: 0                 City    Lat     Lng  Max Temp  Humidity  \\\n",
       "0             0                 Hilo  19.73 -155.09     69.80        77   \n",
       "1             1              Ushuaia -54.80  -68.30     39.20        69   \n",
       "2             2            Grindavik  63.84  -22.43     33.80        80   \n",
       "3             3            Tuatapere -46.13  167.68     56.79        84   \n",
       "4             4  Asunción Nochixtlán  17.47  -97.23     69.17        38   \n",
       "..          ...                  ...    ...     ...       ...       ...   \n",
       "550         550            Bathsheba  13.22  -59.52     87.80        70   \n",
       "551         551              Tautira -17.73 -149.15     80.60        78   \n",
       "552         552             Maragogi  -9.01  -35.22     82.09        71   \n",
       "553         553      Bad Freienwalde  52.79   14.03     52.00        83   \n",
       "554         554            Kyshtovka  56.55   76.63     21.40        97   \n",
       "\n",
       "     Cloudiness  Wind Speed Country        Date  \n",
       "0             1        8.05      US  1605376789  \n",
       "1            75       20.80      AR  1605376789  \n",
       "2            40       12.75      IS  1605376789  \n",
       "3           100        5.73      NZ  1605376789  \n",
       "4             0        5.75      MX  1605376790  \n",
       "..          ...         ...     ...         ...  \n",
       "550          20       11.41      BB  1605376921  \n",
       "551          40        6.93      PF  1605376922  \n",
       "552          16       10.60      BR  1605376922  \n",
       "553          99        6.76      DE  1605376922  \n",
       "554          94        5.39      RU  1605376922  \n",
       "\n",
       "[555 rows x 10 columns]>"
      ]
     },
     "metadata": {},
     "execution_count": 7
    }
   ],
   "source": [
    "cities = pd.read_csv(\"Resources/cities.csv\")\n",
    "\n",
    "cities.head"
   ]
  },
  {
   "cell_type": "code",
   "execution_count": 8,
   "metadata": {},
   "outputs": [],
   "source": [
    "cities.to_html(\"cities.html\")"
   ]
  },
  {
   "cell_type": "code",
   "execution_count": null,
   "metadata": {},
   "outputs": [],
   "source": []
  }
 ]
}